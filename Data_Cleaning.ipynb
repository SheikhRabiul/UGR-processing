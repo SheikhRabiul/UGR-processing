{
 "cells": [
  {
   "cell_type": "code",
   "execution_count": 1,
   "metadata": {},
   "outputs": [
    {
     "data": {
      "text/plain": [
       "'/home/ec2-user/aix360/AIX-UGR'"
      ]
     },
     "execution_count": 1,
     "metadata": {},
     "output_type": "execute_result"
    }
   ],
   "source": [
    "pwd"
   ]
  },
  {
   "cell_type": "markdown",
   "metadata": {},
   "source": [
    "# Read the CSV file"
   ]
  },
  {
   "cell_type": "code",
   "execution_count": 2,
   "metadata": {},
   "outputs": [],
   "source": [
    "import warnings\n",
    "warnings.filterwarnings('ignore')\n",
    "\n",
    "import pandas as pd\n",
    "\n",
    "\n",
    "df = pd.read_csv(\"aix360/data/heloc_data/selected_100_blacklist_10_parsed_2.csv\")\n"
   ]
  },
  {
   "cell_type": "markdown",
   "metadata": {},
   "source": [
    "## Encode target variable as 0,1"
   ]
  },
  {
   "cell_type": "code",
   "execution_count": 3,
   "metadata": {},
   "outputs": [],
   "source": [
    "from sklearn.preprocessing import LabelEncoder\n",
    "\n",
    "enc = LabelEncoder()\n",
    "df['Label'] = enc.fit_transform(df['Label'])"
   ]
  },
  {
   "cell_type": "code",
   "execution_count": 4,
   "metadata": {},
   "outputs": [
    {
     "data": {
      "text/plain": [
       "(120010, 12)"
      ]
     },
     "execution_count": 4,
     "metadata": {},
     "output_type": "execute_result"
    }
   ],
   "source": [
    "df.shape"
   ]
  },
  {
   "cell_type": "markdown",
   "metadata": {},
   "source": [
    "### DF info and Non-Null count"
   ]
  },
  {
   "cell_type": "code",
   "execution_count": 5,
   "metadata": {},
   "outputs": [
    {
     "name": "stdout",
     "output_type": "stream",
     "text": [
      "<class 'pandas.core.frame.DataFrame'>\n",
      "RangeIndex: 120010 entries, 0 to 120009\n",
      "Data columns (total 12 columns):\n",
      " #   Column            Non-Null Count   Dtype  \n",
      "---  ------            --------------   -----  \n",
      " 0   Label             120010 non-null  int64  \n",
      " 1   Timestamp         120010 non-null  int64  \n",
      " 2   FlowDuration      120010 non-null  float64\n",
      " 3   SrcIP             120010 non-null  int64  \n",
      " 4   DstIP             120010 non-null  int64  \n",
      " 5   SrcPort           120010 non-null  int64  \n",
      " 6   DstPort           120010 non-null  int64  \n",
      " 7   Protocol          120010 non-null  int64  \n",
      " 8   ForwardingStatus  120010 non-null  int64  \n",
      " 9   TypeofService     120010 non-null  int64  \n",
      " 10  PacketExed        120010 non-null  int64  \n",
      " 11  Bytes             120008 non-null  float64\n",
      "dtypes: float64(2), int64(10)\n",
      "memory usage: 11.0 MB\n"
     ]
    }
   ],
   "source": [
    "df.info()"
   ]
  },
  {
   "cell_type": "code",
   "execution_count": 6,
   "metadata": {},
   "outputs": [
    {
     "data": {
      "text/html": [
       "<div>\n",
       "<style scoped>\n",
       "    .dataframe tbody tr th:only-of-type {\n",
       "        vertical-align: middle;\n",
       "    }\n",
       "\n",
       "    .dataframe tbody tr th {\n",
       "        vertical-align: top;\n",
       "    }\n",
       "\n",
       "    .dataframe thead th {\n",
       "        text-align: right;\n",
       "    }\n",
       "</style>\n",
       "<table border=\"1\" class=\"dataframe\">\n",
       "  <thead>\n",
       "    <tr style=\"text-align: right;\">\n",
       "      <th></th>\n",
       "      <th>Label</th>\n",
       "      <th>Timestamp</th>\n",
       "      <th>FlowDuration</th>\n",
       "      <th>SrcIP</th>\n",
       "      <th>DstIP</th>\n",
       "      <th>SrcPort</th>\n",
       "      <th>DstPort</th>\n",
       "      <th>Protocol</th>\n",
       "      <th>ForwardingStatus</th>\n",
       "      <th>TypeofService</th>\n",
       "      <th>PacketExed</th>\n",
       "      <th>Bytes</th>\n",
       "    </tr>\n",
       "  </thead>\n",
       "  <tbody>\n",
       "    <tr>\n",
       "      <th>0</th>\n",
       "      <td>1</td>\n",
       "      <td>39160</td>\n",
       "      <td>0.0</td>\n",
       "      <td>2144091225</td>\n",
       "      <td>719034713</td>\n",
       "      <td>123</td>\n",
       "      <td>425</td>\n",
       "      <td>2</td>\n",
       "      <td>0</td>\n",
       "      <td>0</td>\n",
       "      <td>1</td>\n",
       "      <td>76.0</td>\n",
       "    </tr>\n",
       "    <tr>\n",
       "      <th>1</th>\n",
       "      <td>1</td>\n",
       "      <td>39160</td>\n",
       "      <td>0.0</td>\n",
       "      <td>2403862665</td>\n",
       "      <td>719034988</td>\n",
       "      <td>53</td>\n",
       "      <td>41294</td>\n",
       "      <td>2</td>\n",
       "      <td>0</td>\n",
       "      <td>0</td>\n",
       "      <td>1</td>\n",
       "      <td>NaN</td>\n",
       "    </tr>\n",
       "    <tr>\n",
       "      <th>2</th>\n",
       "      <td>1</td>\n",
       "      <td>39160</td>\n",
       "      <td>0.0</td>\n",
       "      <td>2403862665</td>\n",
       "      <td>719034988</td>\n",
       "      <td>53</td>\n",
       "      <td>46784</td>\n",
       "      <td>2</td>\n",
       "      <td>0</td>\n",
       "      <td>0</td>\n",
       "      <td>1</td>\n",
       "      <td>141.0</td>\n",
       "    </tr>\n",
       "    <tr>\n",
       "      <th>3</th>\n",
       "      <td>1</td>\n",
       "      <td>39160</td>\n",
       "      <td>0.0</td>\n",
       "      <td>2403862665</td>\n",
       "      <td>719036065</td>\n",
       "      <td>53</td>\n",
       "      <td>35972</td>\n",
       "      <td>2</td>\n",
       "      <td>0</td>\n",
       "      <td>0</td>\n",
       "      <td>1</td>\n",
       "      <td>113.0</td>\n",
       "    </tr>\n",
       "    <tr>\n",
       "      <th>4</th>\n",
       "      <td>1</td>\n",
       "      <td>39160</td>\n",
       "      <td>0.0</td>\n",
       "      <td>2403862665</td>\n",
       "      <td>719036068</td>\n",
       "      <td>53</td>\n",
       "      <td>41853</td>\n",
       "      <td>2</td>\n",
       "      <td>0</td>\n",
       "      <td>0</td>\n",
       "      <td>1</td>\n",
       "      <td>103.0</td>\n",
       "    </tr>\n",
       "  </tbody>\n",
       "</table>\n",
       "</div>"
      ],
      "text/plain": [
       "   Label  Timestamp  FlowDuration       SrcIP      DstIP  SrcPort  DstPort  \\\n",
       "0      1      39160           0.0  2144091225  719034713      123      425   \n",
       "1      1      39160           0.0  2403862665  719034988       53    41294   \n",
       "2      1      39160           0.0  2403862665  719034988       53    46784   \n",
       "3      1      39160           0.0  2403862665  719036065       53    35972   \n",
       "4      1      39160           0.0  2403862665  719036068       53    41853   \n",
       "\n",
       "   Protocol  ForwardingStatus  TypeofService  PacketExed  Bytes  \n",
       "0         2                 0              0           1   76.0  \n",
       "1         2                 0              0           1    NaN  \n",
       "2         2                 0              0           1  141.0  \n",
       "3         2                 0              0           1  113.0  \n",
       "4         2                 0              0           1  103.0  "
      ]
     },
     "execution_count": 6,
     "metadata": {},
     "output_type": "execute_result"
    }
   ],
   "source": [
    "df.head()"
   ]
  },
  {
   "cell_type": "markdown",
   "metadata": {},
   "source": [
    "## Remove missing data or values with NaN"
   ]
  },
  {
   "cell_type": "code",
   "execution_count": 7,
   "metadata": {},
   "outputs": [],
   "source": [
    "df = df.loc[(df >= 0).all(axis=1)]"
   ]
  },
  {
   "cell_type": "code",
   "execution_count": 8,
   "metadata": {},
   "outputs": [
    {
     "data": {
      "text/plain": [
       "(120008, 12)"
      ]
     },
     "execution_count": 8,
     "metadata": {},
     "output_type": "execute_result"
    }
   ],
   "source": [
    "df.shape"
   ]
  },
  {
   "cell_type": "code",
   "execution_count": 9,
   "metadata": {},
   "outputs": [
    {
     "data": {
      "text/plain": [
       "Index(['Label', 'Timestamp', 'FlowDuration', 'SrcIP', 'DstIP', 'SrcPort',\n",
       "       'DstPort', 'Protocol', 'ForwardingStatus', 'TypeofService',\n",
       "       'PacketExed', 'Bytes'],\n",
       "      dtype='object')"
      ]
     },
     "execution_count": 9,
     "metadata": {},
     "output_type": "execute_result"
    }
   ],
   "source": [
    "df.columns"
   ]
  },
  {
   "cell_type": "markdown",
   "metadata": {},
   "source": [
    "# Unique Values"
   ]
  },
  {
   "cell_type": "code",
   "execution_count": 10,
   "metadata": {},
   "outputs": [
    {
     "data": {
      "text/plain": [
       "Label                   2\n",
       "Timestamp            8707\n",
       "FlowDuration         5760\n",
       "SrcIP               21200\n",
       "DstIP                2731\n",
       "SrcPort             35765\n",
       "DstPort             25825\n",
       "Protocol                6\n",
       "ForwardingStatus        1\n",
       "TypeofService          25\n",
       "PacketExed            723\n",
       "Bytes                8881\n",
       "dtype: int64"
      ]
     },
     "execution_count": 10,
     "metadata": {},
     "output_type": "execute_result"
    }
   ],
   "source": [
    "df.nunique()"
   ]
  },
  {
   "cell_type": "markdown",
   "metadata": {},
   "source": [
    "# Drop Duplicates"
   ]
  },
  {
   "cell_type": "code",
   "execution_count": 11,
   "metadata": {},
   "outputs": [],
   "source": [
    "data = df[['SrcIP', 'DstIP']].drop_duplicates()"
   ]
  },
  {
   "cell_type": "code",
   "execution_count": 12,
   "metadata": {},
   "outputs": [
    {
     "data": {
      "text/plain": [
       "30798"
      ]
     },
     "execution_count": 12,
     "metadata": {},
     "output_type": "execute_result"
    }
   ],
   "source": [
    "len(data)"
   ]
  },
  {
   "cell_type": "code",
   "execution_count": 48,
   "metadata": {},
   "outputs": [
    {
     "data": {
      "text/plain": [
       "120008"
      ]
     },
     "execution_count": 48,
     "metadata": {},
     "output_type": "execute_result"
    }
   ],
   "source": [
    "len(df[['Label','Timestamp','FlowDuration','SrcIP', 'DstIP','SrcPort','DstPort','Protocol','TypeofService','PacketExed']].drop_duplicates())"
   ]
  },
  {
   "cell_type": "code",
   "execution_count": 14,
   "metadata": {},
   "outputs": [
    {
     "data": {
      "text/html": [
       "<div>\n",
       "<style scoped>\n",
       "    .dataframe tbody tr th:only-of-type {\n",
       "        vertical-align: middle;\n",
       "    }\n",
       "\n",
       "    .dataframe tbody tr th {\n",
       "        vertical-align: top;\n",
       "    }\n",
       "\n",
       "    .dataframe thead th {\n",
       "        text-align: right;\n",
       "    }\n",
       "</style>\n",
       "<table border=\"1\" class=\"dataframe\">\n",
       "  <thead>\n",
       "    <tr style=\"text-align: right;\">\n",
       "      <th></th>\n",
       "      <th>SrcIP</th>\n",
       "      <th>DstIP</th>\n",
       "    </tr>\n",
       "  </thead>\n",
       "  <tbody>\n",
       "    <tr>\n",
       "      <th>0</th>\n",
       "      <td>2144091225</td>\n",
       "      <td>719034713</td>\n",
       "    </tr>\n",
       "    <tr>\n",
       "      <th>2</th>\n",
       "      <td>2403862665</td>\n",
       "      <td>719034988</td>\n",
       "    </tr>\n",
       "    <tr>\n",
       "      <th>3</th>\n",
       "      <td>2403862665</td>\n",
       "      <td>719036065</td>\n",
       "    </tr>\n",
       "    <tr>\n",
       "      <th>4</th>\n",
       "      <td>2403862665</td>\n",
       "      <td>719036068</td>\n",
       "    </tr>\n",
       "    <tr>\n",
       "      <th>5</th>\n",
       "      <td>2403862665</td>\n",
       "      <td>719036247</td>\n",
       "    </tr>\n",
       "    <tr>\n",
       "      <th>...</th>\n",
       "      <td>...</td>\n",
       "      <td>...</td>\n",
       "    </tr>\n",
       "    <tr>\n",
       "      <th>115034</th>\n",
       "      <td>1816330239</td>\n",
       "      <td>719035604</td>\n",
       "    </tr>\n",
       "    <tr>\n",
       "      <th>115275</th>\n",
       "      <td>3230619487</td>\n",
       "      <td>719035607</td>\n",
       "    </tr>\n",
       "    <tr>\n",
       "      <th>116876</th>\n",
       "      <td>3229035394</td>\n",
       "      <td>719035605</td>\n",
       "    </tr>\n",
       "    <tr>\n",
       "      <th>116879</th>\n",
       "      <td>3229035394</td>\n",
       "      <td>719035607</td>\n",
       "    </tr>\n",
       "    <tr>\n",
       "      <th>120000</th>\n",
       "      <td>633161166</td>\n",
       "      <td>719035623</td>\n",
       "    </tr>\n",
       "  </tbody>\n",
       "</table>\n",
       "<p>30798 rows × 2 columns</p>\n",
       "</div>"
      ],
      "text/plain": [
       "             SrcIP      DstIP\n",
       "0       2144091225  719034713\n",
       "2       2403862665  719034988\n",
       "3       2403862665  719036065\n",
       "4       2403862665  719036068\n",
       "5       2403862665  719036247\n",
       "...            ...        ...\n",
       "115034  1816330239  719035604\n",
       "115275  3230619487  719035607\n",
       "116876  3229035394  719035605\n",
       "116879  3229035394  719035607\n",
       "120000   633161166  719035623\n",
       "\n",
       "[30798 rows x 2 columns]"
      ]
     },
     "execution_count": 14,
     "metadata": {},
     "output_type": "execute_result"
    }
   ],
   "source": [
    "data"
   ]
  },
  {
   "cell_type": "code",
   "execution_count": 15,
   "metadata": {},
   "outputs": [],
   "source": [
    "srcIP_count = df['SrcIP'].value_counts()"
   ]
  },
  {
   "cell_type": "code",
   "execution_count": 16,
   "metadata": {},
   "outputs": [
    {
     "data": {
      "text/plain": [
       "2403862665    12174\n",
       "1148671665     3635\n",
       "1545504263     2503\n",
       "1816330239     1936\n",
       "2403861754     1814\n",
       "1816330183     1703\n",
       "1816330178     1526\n",
       "3746621224      864\n",
       "3230619482      764\n",
       "1010349080      716\n",
       "Name: SrcIP, dtype: int64"
      ]
     },
     "execution_count": 16,
     "metadata": {},
     "output_type": "execute_result"
    }
   ],
   "source": [
    "srcIP_count.head(10)"
   ]
  },
  {
   "cell_type": "code",
   "execution_count": 17,
   "metadata": {},
   "outputs": [
    {
     "data": {
      "text/plain": [
       "1       12562\n",
       "2        3076\n",
       "3        1183\n",
       "4         822\n",
       "5         507\n",
       "        ...  \n",
       "118         1\n",
       "2503        1\n",
       "566         1\n",
       "1526        1\n",
       "271         1\n",
       "Name: SrcIP, Length: 159, dtype: int64"
      ]
     },
     "execution_count": 17,
     "metadata": {},
     "output_type": "execute_result"
    }
   ],
   "source": [
    "srcIP_count.value_counts()"
   ]
  },
  {
   "cell_type": "code",
   "execution_count": 18,
   "metadata": {},
   "outputs": [],
   "source": [
    "dupe_mask = srcIP_count >= 2"
   ]
  },
  {
   "cell_type": "code",
   "execution_count": 19,
   "metadata": {},
   "outputs": [
    {
     "data": {
      "text/plain": [
       "2403862665    True\n",
       "1148671665    True\n",
       "1545504263    True\n",
       "1816330239    True\n",
       "2403861754    True\n",
       "Name: SrcIP, dtype: bool"
      ]
     },
     "execution_count": 19,
     "metadata": {},
     "output_type": "execute_result"
    }
   ],
   "source": [
    "dupe_mask[0:5]"
   ]
  },
  {
   "cell_type": "code",
   "execution_count": 20,
   "metadata": {},
   "outputs": [
    {
     "data": {
      "text/plain": [
       "Int64Index([2403862665, 1148671665, 1545504263, 1816330239, 2403861754], dtype='int64')"
      ]
     },
     "execution_count": 20,
     "metadata": {},
     "output_type": "execute_result"
    }
   ],
   "source": [
    "srcIP_count.index[0:5]"
   ]
  },
  {
   "cell_type": "code",
   "execution_count": 21,
   "metadata": {},
   "outputs": [],
   "source": [
    "dupe_ids = srcIP_count.index[dupe_mask]"
   ]
  },
  {
   "cell_type": "code",
   "execution_count": 22,
   "metadata": {},
   "outputs": [
    {
     "data": {
      "text/plain": [
       "8638"
      ]
     },
     "execution_count": 22,
     "metadata": {},
     "output_type": "execute_result"
    }
   ],
   "source": [
    "dupe_ids = list(dupe_ids)\n",
    "len(dupe_ids)"
   ]
  },
  {
   "cell_type": "code",
   "execution_count": 23,
   "metadata": {},
   "outputs": [
    {
     "data": {
      "text/plain": [
       "[2403862665, 1148671665, 1545504263, 1816330239, 2403861754]"
      ]
     },
     "execution_count": 23,
     "metadata": {},
     "output_type": "execute_result"
    }
   ],
   "source": [
    "dupe_ids[0:5]"
   ]
  },
  {
   "cell_type": "code",
   "execution_count": 24,
   "metadata": {
    "scrolled": true
   },
   "outputs": [
    {
     "data": {
      "text/html": [
       "<div>\n",
       "<style scoped>\n",
       "    .dataframe tbody tr th:only-of-type {\n",
       "        vertical-align: middle;\n",
       "    }\n",
       "\n",
       "    .dataframe tbody tr th {\n",
       "        vertical-align: top;\n",
       "    }\n",
       "\n",
       "    .dataframe thead th {\n",
       "        text-align: right;\n",
       "    }\n",
       "</style>\n",
       "<table border=\"1\" class=\"dataframe\">\n",
       "  <thead>\n",
       "    <tr style=\"text-align: right;\">\n",
       "      <th></th>\n",
       "      <th>Label</th>\n",
       "      <th>Timestamp</th>\n",
       "      <th>FlowDuration</th>\n",
       "      <th>SrcIP</th>\n",
       "      <th>DstIP</th>\n",
       "      <th>SrcPort</th>\n",
       "      <th>DstPort</th>\n",
       "      <th>Protocol</th>\n",
       "      <th>ForwardingStatus</th>\n",
       "      <th>TypeofService</th>\n",
       "      <th>PacketExed</th>\n",
       "      <th>Bytes</th>\n",
       "    </tr>\n",
       "  </thead>\n",
       "  <tbody>\n",
       "    <tr>\n",
       "      <th>2</th>\n",
       "      <td>1</td>\n",
       "      <td>39160</td>\n",
       "      <td>0.0</td>\n",
       "      <td>2403862665</td>\n",
       "      <td>719034988</td>\n",
       "      <td>53</td>\n",
       "      <td>46784</td>\n",
       "      <td>2</td>\n",
       "      <td>0</td>\n",
       "      <td>0</td>\n",
       "      <td>1</td>\n",
       "      <td>141.0</td>\n",
       "    </tr>\n",
       "    <tr>\n",
       "      <th>3</th>\n",
       "      <td>1</td>\n",
       "      <td>39160</td>\n",
       "      <td>0.0</td>\n",
       "      <td>2403862665</td>\n",
       "      <td>719036065</td>\n",
       "      <td>53</td>\n",
       "      <td>35972</td>\n",
       "      <td>2</td>\n",
       "      <td>0</td>\n",
       "      <td>0</td>\n",
       "      <td>1</td>\n",
       "      <td>113.0</td>\n",
       "    </tr>\n",
       "    <tr>\n",
       "      <th>4</th>\n",
       "      <td>1</td>\n",
       "      <td>39160</td>\n",
       "      <td>0.0</td>\n",
       "      <td>2403862665</td>\n",
       "      <td>719036068</td>\n",
       "      <td>53</td>\n",
       "      <td>41853</td>\n",
       "      <td>2</td>\n",
       "      <td>0</td>\n",
       "      <td>0</td>\n",
       "      <td>1</td>\n",
       "      <td>103.0</td>\n",
       "    </tr>\n",
       "    <tr>\n",
       "      <th>5</th>\n",
       "      <td>1</td>\n",
       "      <td>39160</td>\n",
       "      <td>0.0</td>\n",
       "      <td>2403862665</td>\n",
       "      <td>719036247</td>\n",
       "      <td>53</td>\n",
       "      <td>49429</td>\n",
       "      <td>2</td>\n",
       "      <td>0</td>\n",
       "      <td>0</td>\n",
       "      <td>1</td>\n",
       "      <td>152.0</td>\n",
       "    </tr>\n",
       "    <tr>\n",
       "      <th>59</th>\n",
       "      <td>1</td>\n",
       "      <td>39161</td>\n",
       "      <td>0.0</td>\n",
       "      <td>2403862665</td>\n",
       "      <td>719034876</td>\n",
       "      <td>53</td>\n",
       "      <td>54436</td>\n",
       "      <td>2</td>\n",
       "      <td>0</td>\n",
       "      <td>0</td>\n",
       "      <td>1</td>\n",
       "      <td>96.0</td>\n",
       "    </tr>\n",
       "    <tr>\n",
       "      <th>60</th>\n",
       "      <td>1</td>\n",
       "      <td>39161</td>\n",
       "      <td>0.0</td>\n",
       "      <td>2403862665</td>\n",
       "      <td>719034988</td>\n",
       "      <td>53</td>\n",
       "      <td>39867</td>\n",
       "      <td>2</td>\n",
       "      <td>0</td>\n",
       "      <td>0</td>\n",
       "      <td>1</td>\n",
       "      <td>80.0</td>\n",
       "    </tr>\n",
       "    <tr>\n",
       "      <th>61</th>\n",
       "      <td>1</td>\n",
       "      <td>39161</td>\n",
       "      <td>0.0</td>\n",
       "      <td>2403862665</td>\n",
       "      <td>719034988</td>\n",
       "      <td>53</td>\n",
       "      <td>41847</td>\n",
       "      <td>2</td>\n",
       "      <td>0</td>\n",
       "      <td>0</td>\n",
       "      <td>1</td>\n",
       "      <td>96.0</td>\n",
       "    </tr>\n",
       "    <tr>\n",
       "      <th>62</th>\n",
       "      <td>1</td>\n",
       "      <td>39161</td>\n",
       "      <td>0.0</td>\n",
       "      <td>2403862665</td>\n",
       "      <td>719034988</td>\n",
       "      <td>53</td>\n",
       "      <td>42890</td>\n",
       "      <td>2</td>\n",
       "      <td>0</td>\n",
       "      <td>0</td>\n",
       "      <td>1</td>\n",
       "      <td>86.0</td>\n",
       "    </tr>\n",
       "    <tr>\n",
       "      <th>63</th>\n",
       "      <td>1</td>\n",
       "      <td>39161</td>\n",
       "      <td>0.0</td>\n",
       "      <td>2403862665</td>\n",
       "      <td>719034988</td>\n",
       "      <td>53</td>\n",
       "      <td>47476</td>\n",
       "      <td>2</td>\n",
       "      <td>0</td>\n",
       "      <td>0</td>\n",
       "      <td>1</td>\n",
       "      <td>127.0</td>\n",
       "    </tr>\n",
       "    <tr>\n",
       "      <th>64</th>\n",
       "      <td>1</td>\n",
       "      <td>39161</td>\n",
       "      <td>0.0</td>\n",
       "      <td>2403862665</td>\n",
       "      <td>719034988</td>\n",
       "      <td>53</td>\n",
       "      <td>48810</td>\n",
       "      <td>2</td>\n",
       "      <td>0</td>\n",
       "      <td>0</td>\n",
       "      <td>1</td>\n",
       "      <td>125.0</td>\n",
       "    </tr>\n",
       "  </tbody>\n",
       "</table>\n",
       "</div>"
      ],
      "text/plain": [
       "    Label  Timestamp  FlowDuration       SrcIP      DstIP  SrcPort  DstPort  \\\n",
       "2       1      39160           0.0  2403862665  719034988       53    46784   \n",
       "3       1      39160           0.0  2403862665  719036065       53    35972   \n",
       "4       1      39160           0.0  2403862665  719036068       53    41853   \n",
       "5       1      39160           0.0  2403862665  719036247       53    49429   \n",
       "59      1      39161           0.0  2403862665  719034876       53    54436   \n",
       "60      1      39161           0.0  2403862665  719034988       53    39867   \n",
       "61      1      39161           0.0  2403862665  719034988       53    41847   \n",
       "62      1      39161           0.0  2403862665  719034988       53    42890   \n",
       "63      1      39161           0.0  2403862665  719034988       53    47476   \n",
       "64      1      39161           0.0  2403862665  719034988       53    48810   \n",
       "\n",
       "    Protocol  ForwardingStatus  TypeofService  PacketExed  Bytes  \n",
       "2          2                 0              0           1  141.0  \n",
       "3          2                 0              0           1  113.0  \n",
       "4          2                 0              0           1  103.0  \n",
       "5          2                 0              0           1  152.0  \n",
       "59         2                 0              0           1   96.0  \n",
       "60         2                 0              0           1   80.0  \n",
       "61         2                 0              0           1   96.0  \n",
       "62         2                 0              0           1   86.0  \n",
       "63         2                 0              0           1  127.0  \n",
       "64         2                 0              0           1  125.0  "
      ]
     },
     "execution_count": 24,
     "metadata": {},
     "output_type": "execute_result"
    }
   ],
   "source": [
    "df.loc[df['SrcIP'].isin(dupe_ids[0:3]),:].head(10)"
   ]
  },
  {
   "cell_type": "markdown",
   "metadata": {},
   "source": [
    "## Exploring the features"
   ]
  },
  {
   "cell_type": "code",
   "execution_count": 25,
   "metadata": {},
   "outputs": [],
   "source": [
    "import matplotlib.pyplot as plt #import plotting package\n",
    "\n",
    "#render plotting automatically\n",
    "%matplotlib inline\n",
    "\n",
    "import matplotlib as mpl #additional plotting functionality\n",
    "\n",
    "mpl.rcParams['figure.dpi'] = 400"
   ]
  },
  {
   "cell_type": "code",
   "execution_count": 26,
   "metadata": {},
   "outputs": [
    {
     "data": {
      "text/plain": [
       "<matplotlib.axes._subplots.AxesSubplot at 0x7fe76ceddb00>"
      ]
     },
     "execution_count": 26,
     "metadata": {},
     "output_type": "execute_result"
    },
    {
     "data": {
      "image/png": "[encoded data removed]",
      "text/plain": [
       "<Figure size 2400x1600 with 1 Axes>"
      ]
     },
     "metadata": {
      "needs_background": "light"
     },
     "output_type": "display_data"
    }
   ],
   "source": [
    "df['FlowDuration'].hist()"
   ]
  },
  {
   "cell_type": "code",
   "execution_count": 27,
   "metadata": {},
   "outputs": [
    {
     "data": {
      "text/html": [
       "<div>\n",
       "<style scoped>\n",
       "    .dataframe tbody tr th:only-of-type {\n",
       "        vertical-align: middle;\n",
       "    }\n",
       "\n",
       "    .dataframe tbody tr th {\n",
       "        vertical-align: top;\n",
       "    }\n",
       "\n",
       "    .dataframe thead th {\n",
       "        text-align: right;\n",
       "    }\n",
       "</style>\n",
       "<table border=\"1\" class=\"dataframe\">\n",
       "  <thead>\n",
       "    <tr style=\"text-align: right;\">\n",
       "      <th></th>\n",
       "      <th>PacketExed</th>\n",
       "    </tr>\n",
       "  </thead>\n",
       "  <tbody>\n",
       "    <tr>\n",
       "      <th>count</th>\n",
       "      <td>1.200080e+05</td>\n",
       "    </tr>\n",
       "    <tr>\n",
       "      <th>mean</th>\n",
       "      <td>3.481002e+01</td>\n",
       "    </tr>\n",
       "    <tr>\n",
       "      <th>std</th>\n",
       "      <td>3.495729e+03</td>\n",
       "    </tr>\n",
       "    <tr>\n",
       "      <th>min</th>\n",
       "      <td>1.000000e+00</td>\n",
       "    </tr>\n",
       "    <tr>\n",
       "      <th>25%</th>\n",
       "      <td>1.000000e+00</td>\n",
       "    </tr>\n",
       "    <tr>\n",
       "      <th>50%</th>\n",
       "      <td>3.000000e+00</td>\n",
       "    </tr>\n",
       "    <tr>\n",
       "      <th>75%</th>\n",
       "      <td>9.000000e+00</td>\n",
       "    </tr>\n",
       "    <tr>\n",
       "      <th>max</th>\n",
       "      <td>1.003449e+06</td>\n",
       "    </tr>\n",
       "  </tbody>\n",
       "</table>\n",
       "</div>"
      ],
      "text/plain": [
       "         PacketExed\n",
       "count  1.200080e+05\n",
       "mean   3.481002e+01\n",
       "std    3.495729e+03\n",
       "min    1.000000e+00\n",
       "25%    1.000000e+00\n",
       "50%    3.000000e+00\n",
       "75%    9.000000e+00\n",
       "max    1.003449e+06"
      ]
     },
     "execution_count": 27,
     "metadata": {},
     "output_type": "execute_result"
    }
   ],
   "source": [
    "df[['PacketExed']].describe()"
   ]
  },
  {
   "cell_type": "code",
   "execution_count": 28,
   "metadata": {},
   "outputs": [],
   "source": [
    "flow_count = df['PacketExed'].value_counts()"
   ]
  },
  {
   "cell_type": "code",
   "execution_count": 29,
   "metadata": {},
   "outputs": [
    {
     "data": {
      "text/plain": [
       "1    49925\n",
       "2     7081\n",
       "4     6942\n",
       "5     6705\n",
       "3     6369\n",
       "Name: PacketExed, dtype: int64"
      ]
     },
     "execution_count": 29,
     "metadata": {},
     "output_type": "execute_result"
    }
   ],
   "source": [
    "flow_count.head()"
   ]
  },
  {
   "cell_type": "code",
   "execution_count": 30,
   "metadata": {},
   "outputs": [],
   "source": [
    "label_count = df['Label'].value_counts()"
   ]
  },
  {
   "cell_type": "code",
   "execution_count": 31,
   "metadata": {},
   "outputs": [
    {
     "data": {
      "text/plain": [
       "1    99998\n",
       "0    20010\n",
       "Name: Label, dtype: int64"
      ]
     },
     "execution_count": 31,
     "metadata": {},
     "output_type": "execute_result"
    }
   ],
   "source": [
    "label_count"
   ]
  },
  {
   "cell_type": "code",
   "execution_count": 32,
   "metadata": {},
   "outputs": [],
   "source": [
    "flow_mask = df['PacketExed'] >1000.0"
   ]
  },
  {
   "cell_type": "code",
   "execution_count": 33,
   "metadata": {},
   "outputs": [
    {
     "data": {
      "text/plain": [
       "0    False\n",
       "2    False\n",
       "3    False\n",
       "4    False\n",
       "5    False\n",
       "Name: PacketExed, dtype: bool"
      ]
     },
     "execution_count": 33,
     "metadata": {},
     "output_type": "execute_result"
    }
   ],
   "source": [
    "flow_mask[0:5]"
   ]
  },
  {
   "cell_type": "code",
   "execution_count": 34,
   "metadata": {},
   "outputs": [
    {
     "data": {
      "text/plain": [
       "206"
      ]
     },
     "execution_count": 34,
     "metadata": {},
     "output_type": "execute_result"
    }
   ],
   "source": [
    "sum(flow_mask)"
   ]
  },
  {
   "cell_type": "code",
   "execution_count": 35,
   "metadata": {},
   "outputs": [],
   "source": [
    "df_sample = df.loc[flow_mask,:].copy()"
   ]
  },
  {
   "cell_type": "code",
   "execution_count": 36,
   "metadata": {},
   "outputs": [
    {
     "data": {
      "text/html": [
       "<div>\n",
       "<style scoped>\n",
       "    .dataframe tbody tr th:only-of-type {\n",
       "        vertical-align: middle;\n",
       "    }\n",
       "\n",
       "    .dataframe tbody tr th {\n",
       "        vertical-align: top;\n",
       "    }\n",
       "\n",
       "    .dataframe thead th {\n",
       "        text-align: right;\n",
       "    }\n",
       "</style>\n",
       "<table border=\"1\" class=\"dataframe\">\n",
       "  <thead>\n",
       "    <tr style=\"text-align: right;\">\n",
       "      <th></th>\n",
       "      <th>Label</th>\n",
       "      <th>Timestamp</th>\n",
       "      <th>FlowDuration</th>\n",
       "      <th>SrcIP</th>\n",
       "      <th>DstIP</th>\n",
       "      <th>SrcPort</th>\n",
       "      <th>DstPort</th>\n",
       "      <th>Protocol</th>\n",
       "      <th>ForwardingStatus</th>\n",
       "      <th>TypeofService</th>\n",
       "      <th>PacketExed</th>\n",
       "      <th>Bytes</th>\n",
       "    </tr>\n",
       "  </thead>\n",
       "  <tbody>\n",
       "    <tr>\n",
       "      <th>1752</th>\n",
       "      <td>1</td>\n",
       "      <td>39167</td>\n",
       "      <td>81.308</td>\n",
       "      <td>624992581</td>\n",
       "      <td>719035677</td>\n",
       "      <td>58844</td>\n",
       "      <td>443</td>\n",
       "      <td>1</td>\n",
       "      <td>0</td>\n",
       "      <td>0</td>\n",
       "      <td>1473</td>\n",
       "      <td>113413.0</td>\n",
       "    </tr>\n",
       "    <tr>\n",
       "      <th>3497</th>\n",
       "      <td>1</td>\n",
       "      <td>39170</td>\n",
       "      <td>55.120</td>\n",
       "      <td>1319157552</td>\n",
       "      <td>719036248</td>\n",
       "      <td>443</td>\n",
       "      <td>55236</td>\n",
       "      <td>1</td>\n",
       "      <td>0</td>\n",
       "      <td>40</td>\n",
       "      <td>1815</td>\n",
       "      <td>2482524.0</td>\n",
       "    </tr>\n",
       "    <tr>\n",
       "      <th>3988</th>\n",
       "      <td>1</td>\n",
       "      <td>39171</td>\n",
       "      <td>0.432</td>\n",
       "      <td>3692409786</td>\n",
       "      <td>719035195</td>\n",
       "      <td>80</td>\n",
       "      <td>50717</td>\n",
       "      <td>1</td>\n",
       "      <td>0</td>\n",
       "      <td>8</td>\n",
       "      <td>1490</td>\n",
       "      <td>2176834.0</td>\n",
       "    </tr>\n",
       "    <tr>\n",
       "      <th>4627</th>\n",
       "      <td>1</td>\n",
       "      <td>39172</td>\n",
       "      <td>0.332</td>\n",
       "      <td>3692409602</td>\n",
       "      <td>719036341</td>\n",
       "      <td>80</td>\n",
       "      <td>49957</td>\n",
       "      <td>1</td>\n",
       "      <td>0</td>\n",
       "      <td>8</td>\n",
       "      <td>1895</td>\n",
       "      <td>2705475.0</td>\n",
       "    </tr>\n",
       "    <tr>\n",
       "      <th>5504</th>\n",
       "      <td>1</td>\n",
       "      <td>39173</td>\n",
       "      <td>105.892</td>\n",
       "      <td>708974170</td>\n",
       "      <td>719036249</td>\n",
       "      <td>161</td>\n",
       "      <td>63061</td>\n",
       "      <td>2</td>\n",
       "      <td>0</td>\n",
       "      <td>0</td>\n",
       "      <td>1081</td>\n",
       "      <td>92482.0</td>\n",
       "    </tr>\n",
       "    <tr>\n",
       "      <th>...</th>\n",
       "      <td>...</td>\n",
       "      <td>...</td>\n",
       "      <td>...</td>\n",
       "      <td>...</td>\n",
       "      <td>...</td>\n",
       "      <td>...</td>\n",
       "      <td>...</td>\n",
       "      <td>...</td>\n",
       "      <td>...</td>\n",
       "      <td>...</td>\n",
       "      <td>...</td>\n",
       "      <td>...</td>\n",
       "    </tr>\n",
       "    <tr>\n",
       "      <th>120005</th>\n",
       "      <td>0</td>\n",
       "      <td>69043</td>\n",
       "      <td>10.312</td>\n",
       "      <td>633161166</td>\n",
       "      <td>719035623</td>\n",
       "      <td>22</td>\n",
       "      <td>52962</td>\n",
       "      <td>1</td>\n",
       "      <td>0</td>\n",
       "      <td>0</td>\n",
       "      <td>37855</td>\n",
       "      <td>6955484.0</td>\n",
       "    </tr>\n",
       "    <tr>\n",
       "      <th>120006</th>\n",
       "      <td>0</td>\n",
       "      <td>69083</td>\n",
       "      <td>17.164</td>\n",
       "      <td>633161166</td>\n",
       "      <td>719035623</td>\n",
       "      <td>22</td>\n",
       "      <td>52974</td>\n",
       "      <td>1</td>\n",
       "      <td>0</td>\n",
       "      <td>0</td>\n",
       "      <td>34850</td>\n",
       "      <td>6736949.0</td>\n",
       "    </tr>\n",
       "    <tr>\n",
       "      <th>120007</th>\n",
       "      <td>0</td>\n",
       "      <td>69164</td>\n",
       "      <td>15.192</td>\n",
       "      <td>633161166</td>\n",
       "      <td>719035623</td>\n",
       "      <td>22</td>\n",
       "      <td>52983</td>\n",
       "      <td>1</td>\n",
       "      <td>0</td>\n",
       "      <td>0</td>\n",
       "      <td>37487</td>\n",
       "      <td>6916425.0</td>\n",
       "    </tr>\n",
       "    <tr>\n",
       "      <th>120008</th>\n",
       "      <td>0</td>\n",
       "      <td>69200</td>\n",
       "      <td>14.948</td>\n",
       "      <td>633161166</td>\n",
       "      <td>719035623</td>\n",
       "      <td>22</td>\n",
       "      <td>53002</td>\n",
       "      <td>1</td>\n",
       "      <td>0</td>\n",
       "      <td>0</td>\n",
       "      <td>35695</td>\n",
       "      <td>6797353.0</td>\n",
       "    </tr>\n",
       "    <tr>\n",
       "      <th>120009</th>\n",
       "      <td>0</td>\n",
       "      <td>69646</td>\n",
       "      <td>16.136</td>\n",
       "      <td>633161166</td>\n",
       "      <td>719035623</td>\n",
       "      <td>22</td>\n",
       "      <td>53074</td>\n",
       "      <td>1</td>\n",
       "      <td>0</td>\n",
       "      <td>0</td>\n",
       "      <td>35364</td>\n",
       "      <td>6751069.0</td>\n",
       "    </tr>\n",
       "  </tbody>\n",
       "</table>\n",
       "<p>206 rows × 12 columns</p>\n",
       "</div>"
      ],
      "text/plain": [
       "        Label  Timestamp  FlowDuration       SrcIP      DstIP  SrcPort  \\\n",
       "1752        1      39167        81.308   624992581  719035677    58844   \n",
       "3497        1      39170        55.120  1319157552  719036248      443   \n",
       "3988        1      39171         0.432  3692409786  719035195       80   \n",
       "4627        1      39172         0.332  3692409602  719036341       80   \n",
       "5504        1      39173       105.892   708974170  719036249      161   \n",
       "...       ...        ...           ...         ...        ...      ...   \n",
       "120005      0      69043        10.312   633161166  719035623       22   \n",
       "120006      0      69083        17.164   633161166  719035623       22   \n",
       "120007      0      69164        15.192   633161166  719035623       22   \n",
       "120008      0      69200        14.948   633161166  719035623       22   \n",
       "120009      0      69646        16.136   633161166  719035623       22   \n",
       "\n",
       "        DstPort  Protocol  ForwardingStatus  TypeofService  PacketExed  \\\n",
       "1752        443         1                 0              0        1473   \n",
       "3497      55236         1                 0             40        1815   \n",
       "3988      50717         1                 0              8        1490   \n",
       "4627      49957         1                 0              8        1895   \n",
       "5504      63061         2                 0              0        1081   \n",
       "...         ...       ...               ...            ...         ...   \n",
       "120005    52962         1                 0              0       37855   \n",
       "120006    52974         1                 0              0       34850   \n",
       "120007    52983         1                 0              0       37487   \n",
       "120008    53002         1                 0              0       35695   \n",
       "120009    53074         1                 0              0       35364   \n",
       "\n",
       "            Bytes  \n",
       "1752     113413.0  \n",
       "3497    2482524.0  \n",
       "3988    2176834.0  \n",
       "4627    2705475.0  \n",
       "5504      92482.0  \n",
       "...           ...  \n",
       "120005  6955484.0  \n",
       "120006  6736949.0  \n",
       "120007  6916425.0  \n",
       "120008  6797353.0  \n",
       "120009  6751069.0  \n",
       "\n",
       "[206 rows x 12 columns]"
      ]
     },
     "execution_count": 36,
     "metadata": {},
     "output_type": "execute_result"
    }
   ],
   "source": [
    "df_sample"
   ]
  },
  {
   "cell_type": "code",
   "execution_count": 37,
   "metadata": {},
   "outputs": [],
   "source": [
    "label_count = df_sample['Label'].value_counts()"
   ]
  },
  {
   "cell_type": "code",
   "execution_count": 38,
   "metadata": {},
   "outputs": [
    {
     "data": {
      "text/plain": [
       "1    177\n",
       "0     29\n",
       "Name: Label, dtype: int64"
      ]
     },
     "execution_count": 38,
     "metadata": {},
     "output_type": "execute_result"
    }
   ],
   "source": [
    "label_count"
   ]
  },
  {
   "cell_type": "code",
   "execution_count": 39,
   "metadata": {},
   "outputs": [],
   "source": [
    "label_mask = df['Label'] == 0"
   ]
  },
  {
   "cell_type": "code",
   "execution_count": 40,
   "metadata": {},
   "outputs": [
    {
     "data": {
      "text/plain": [
       "0    False\n",
       "2    False\n",
       "3    False\n",
       "4    False\n",
       "5    False\n",
       "Name: Label, dtype: bool"
      ]
     },
     "execution_count": 40,
     "metadata": {},
     "output_type": "execute_result"
    }
   ],
   "source": [
    "label_mask[0:5]"
   ]
  },
  {
   "cell_type": "code",
   "execution_count": 41,
   "metadata": {},
   "outputs": [
    {
     "data": {
      "text/plain": [
       "20010"
      ]
     },
     "execution_count": 41,
     "metadata": {},
     "output_type": "execute_result"
    }
   ],
   "source": [
    "sum(label_mask)"
   ]
  },
  {
   "cell_type": "code",
   "execution_count": 42,
   "metadata": {},
   "outputs": [],
   "source": [
    "df_sample_bad = df.loc[label_mask,:].copy()"
   ]
  },
  {
   "cell_type": "code",
   "execution_count": 43,
   "metadata": {},
   "outputs": [
    {
     "data": {
      "text/html": [
       "<div>\n",
       "<style scoped>\n",
       "    .dataframe tbody tr th:only-of-type {\n",
       "        vertical-align: middle;\n",
       "    }\n",
       "\n",
       "    .dataframe tbody tr th {\n",
       "        vertical-align: top;\n",
       "    }\n",
       "\n",
       "    .dataframe thead th {\n",
       "        text-align: right;\n",
       "    }\n",
       "</style>\n",
       "<table border=\"1\" class=\"dataframe\">\n",
       "  <thead>\n",
       "    <tr style=\"text-align: right;\">\n",
       "      <th></th>\n",
       "      <th>Label</th>\n",
       "      <th>Timestamp</th>\n",
       "      <th>FlowDuration</th>\n",
       "      <th>SrcIP</th>\n",
       "      <th>DstIP</th>\n",
       "      <th>SrcPort</th>\n",
       "      <th>DstPort</th>\n",
       "      <th>Protocol</th>\n",
       "      <th>ForwardingStatus</th>\n",
       "      <th>TypeofService</th>\n",
       "      <th>PacketExed</th>\n",
       "      <th>Bytes</th>\n",
       "    </tr>\n",
       "  </thead>\n",
       "  <tbody>\n",
       "    <tr>\n",
       "      <th>100000</th>\n",
       "      <td>0</td>\n",
       "      <td>39180</td>\n",
       "      <td>0.000</td>\n",
       "      <td>1302970731</td>\n",
       "      <td>719034823</td>\n",
       "      <td>0</td>\n",
       "      <td>771</td>\n",
       "      <td>3</td>\n",
       "      <td>0</td>\n",
       "      <td>0</td>\n",
       "      <td>1</td>\n",
       "      <td>88.0</td>\n",
       "    </tr>\n",
       "    <tr>\n",
       "      <th>100001</th>\n",
       "      <td>0</td>\n",
       "      <td>39218</td>\n",
       "      <td>1.360</td>\n",
       "      <td>4161214233</td>\n",
       "      <td>719034713</td>\n",
       "      <td>443</td>\n",
       "      <td>57667</td>\n",
       "      <td>1</td>\n",
       "      <td>0</td>\n",
       "      <td>72</td>\n",
       "      <td>3</td>\n",
       "      <td>120.0</td>\n",
       "    </tr>\n",
       "    <tr>\n",
       "      <th>100002</th>\n",
       "      <td>0</td>\n",
       "      <td>39218</td>\n",
       "      <td>1.368</td>\n",
       "      <td>4161214233</td>\n",
       "      <td>719034713</td>\n",
       "      <td>443</td>\n",
       "      <td>57665</td>\n",
       "      <td>1</td>\n",
       "      <td>0</td>\n",
       "      <td>72</td>\n",
       "      <td>3</td>\n",
       "      <td>120.0</td>\n",
       "    </tr>\n",
       "    <tr>\n",
       "      <th>100003</th>\n",
       "      <td>0</td>\n",
       "      <td>39224</td>\n",
       "      <td>1.136</td>\n",
       "      <td>1010349080</td>\n",
       "      <td>719036146</td>\n",
       "      <td>80</td>\n",
       "      <td>36514</td>\n",
       "      <td>1</td>\n",
       "      <td>0</td>\n",
       "      <td>0</td>\n",
       "      <td>4</td>\n",
       "      <td>565.0</td>\n",
       "    </tr>\n",
       "    <tr>\n",
       "      <th>100004</th>\n",
       "      <td>0</td>\n",
       "      <td>39224</td>\n",
       "      <td>1.036</td>\n",
       "      <td>1010349080</td>\n",
       "      <td>719036146</td>\n",
       "      <td>443</td>\n",
       "      <td>38389</td>\n",
       "      <td>1</td>\n",
       "      <td>0</td>\n",
       "      <td>0</td>\n",
       "      <td>85</td>\n",
       "      <td>106492.0</td>\n",
       "    </tr>\n",
       "  </tbody>\n",
       "</table>\n",
       "</div>"
      ],
      "text/plain": [
       "        Label  Timestamp  FlowDuration       SrcIP      DstIP  SrcPort  \\\n",
       "100000      0      39180         0.000  1302970731  719034823        0   \n",
       "100001      0      39218         1.360  4161214233  719034713      443   \n",
       "100002      0      39218         1.368  4161214233  719034713      443   \n",
       "100003      0      39224         1.136  1010349080  719036146       80   \n",
       "100004      0      39224         1.036  1010349080  719036146      443   \n",
       "\n",
       "        DstPort  Protocol  ForwardingStatus  TypeofService  PacketExed  \\\n",
       "100000      771         3                 0              0           1   \n",
       "100001    57667         1                 0             72           3   \n",
       "100002    57665         1                 0             72           3   \n",
       "100003    36514         1                 0              0           4   \n",
       "100004    38389         1                 0              0          85   \n",
       "\n",
       "           Bytes  \n",
       "100000      88.0  \n",
       "100001     120.0  \n",
       "100002     120.0  \n",
       "100003     565.0  \n",
       "100004  106492.0  "
      ]
     },
     "execution_count": 43,
     "metadata": {},
     "output_type": "execute_result"
    }
   ],
   "source": [
    "df_sample_bad.head()"
   ]
  },
  {
   "cell_type": "code",
   "execution_count": 44,
   "metadata": {},
   "outputs": [
    {
     "name": "stdout",
     "output_type": "stream",
     "text": [
      "<class 'pandas.core.frame.DataFrame'>\n",
      "Int64Index: 20010 entries, 100000 to 120009\n",
      "Data columns (total 12 columns):\n",
      " #   Column            Non-Null Count  Dtype  \n",
      "---  ------            --------------  -----  \n",
      " 0   Label             20010 non-null  int64  \n",
      " 1   Timestamp         20010 non-null  int64  \n",
      " 2   FlowDuration      20010 non-null  float64\n",
      " 3   SrcIP             20010 non-null  int64  \n",
      " 4   DstIP             20010 non-null  int64  \n",
      " 5   SrcPort           20010 non-null  int64  \n",
      " 6   DstPort           20010 non-null  int64  \n",
      " 7   Protocol          20010 non-null  int64  \n",
      " 8   ForwardingStatus  20010 non-null  int64  \n",
      " 9   TypeofService     20010 non-null  int64  \n",
      " 10  PacketExed        20010 non-null  int64  \n",
      " 11  Bytes             20010 non-null  float64\n",
      "dtypes: float64(2), int64(10)\n",
      "memory usage: 2.0 MB\n"
     ]
    }
   ],
   "source": [
    "df_sample_bad.info()"
   ]
  },
  {
   "cell_type": "code",
   "execution_count": 45,
   "metadata": {},
   "outputs": [
    {
     "data": {
      "text/plain": [
       "Label                   1\n",
       "Timestamp            8593\n",
       "FlowDuration         1549\n",
       "SrcIP                 175\n",
       "DstIP                2041\n",
       "SrcPort              3632\n",
       "DstPort             12708\n",
       "Protocol                3\n",
       "ForwardingStatus        1\n",
       "TypeofService           6\n",
       "PacketExed            154\n",
       "Bytes                1008\n",
       "dtype: int64"
      ]
     },
     "execution_count": 45,
     "metadata": {},
     "output_type": "execute_result"
    }
   ],
   "source": [
    "df_sample_bad.nunique()"
   ]
  },
  {
   "cell_type": "code",
   "execution_count": 46,
   "metadata": {},
   "outputs": [
    {
     "data": {
      "text/plain": [
       "Label                   2\n",
       "Timestamp            8707\n",
       "FlowDuration         5760\n",
       "SrcIP               21200\n",
       "DstIP                2731\n",
       "SrcPort             35765\n",
       "DstPort             25825\n",
       "Protocol                6\n",
       "ForwardingStatus        1\n",
       "TypeofService          25\n",
       "PacketExed            723\n",
       "Bytes                8881\n",
       "dtype: int64"
      ]
     },
     "execution_count": 46,
     "metadata": {},
     "output_type": "execute_result"
    }
   ],
   "source": [
    "df.nunique()"
   ]
  },
  {
   "cell_type": "code",
   "execution_count": 47,
   "metadata": {},
   "outputs": [
    {
     "data": {
      "text/html": [
       "<div>\n",
       "<style scoped>\n",
       "    .dataframe tbody tr th:only-of-type {\n",
       "        vertical-align: middle;\n",
       "    }\n",
       "\n",
       "    .dataframe tbody tr th {\n",
       "        vertical-align: top;\n",
       "    }\n",
       "\n",
       "    .dataframe thead th {\n",
       "        text-align: right;\n",
       "    }\n",
       "</style>\n",
       "<table border=\"1\" class=\"dataframe\">\n",
       "  <thead>\n",
       "    <tr style=\"text-align: right;\">\n",
       "      <th></th>\n",
       "      <th>Label</th>\n",
       "      <th>Timestamp</th>\n",
       "      <th>FlowDuration</th>\n",
       "      <th>SrcIP</th>\n",
       "      <th>DstIP</th>\n",
       "      <th>SrcPort</th>\n",
       "      <th>DstPort</th>\n",
       "      <th>Protocol</th>\n",
       "      <th>ForwardingStatus</th>\n",
       "      <th>TypeofService</th>\n",
       "      <th>PacketExed</th>\n",
       "      <th>Bytes</th>\n",
       "    </tr>\n",
       "  </thead>\n",
       "  <tbody>\n",
       "    <tr>\n",
       "      <th>100000</th>\n",
       "      <td>0</td>\n",
       "      <td>39180</td>\n",
       "      <td>0.000</td>\n",
       "      <td>1302970731</td>\n",
       "      <td>719034823</td>\n",
       "      <td>0</td>\n",
       "      <td>771</td>\n",
       "      <td>3</td>\n",
       "      <td>0</td>\n",
       "      <td>0</td>\n",
       "      <td>1</td>\n",
       "      <td>88.0</td>\n",
       "    </tr>\n",
       "    <tr>\n",
       "      <th>100001</th>\n",
       "      <td>0</td>\n",
       "      <td>39218</td>\n",
       "      <td>1.360</td>\n",
       "      <td>4161214233</td>\n",
       "      <td>719034713</td>\n",
       "      <td>443</td>\n",
       "      <td>57667</td>\n",
       "      <td>1</td>\n",
       "      <td>0</td>\n",
       "      <td>72</td>\n",
       "      <td>3</td>\n",
       "      <td>120.0</td>\n",
       "    </tr>\n",
       "    <tr>\n",
       "      <th>100002</th>\n",
       "      <td>0</td>\n",
       "      <td>39218</td>\n",
       "      <td>1.368</td>\n",
       "      <td>4161214233</td>\n",
       "      <td>719034713</td>\n",
       "      <td>443</td>\n",
       "      <td>57665</td>\n",
       "      <td>1</td>\n",
       "      <td>0</td>\n",
       "      <td>72</td>\n",
       "      <td>3</td>\n",
       "      <td>120.0</td>\n",
       "    </tr>\n",
       "    <tr>\n",
       "      <th>100003</th>\n",
       "      <td>0</td>\n",
       "      <td>39224</td>\n",
       "      <td>1.136</td>\n",
       "      <td>1010349080</td>\n",
       "      <td>719036146</td>\n",
       "      <td>80</td>\n",
       "      <td>36514</td>\n",
       "      <td>1</td>\n",
       "      <td>0</td>\n",
       "      <td>0</td>\n",
       "      <td>4</td>\n",
       "      <td>565.0</td>\n",
       "    </tr>\n",
       "    <tr>\n",
       "      <th>100004</th>\n",
       "      <td>0</td>\n",
       "      <td>39224</td>\n",
       "      <td>1.036</td>\n",
       "      <td>1010349080</td>\n",
       "      <td>719036146</td>\n",
       "      <td>443</td>\n",
       "      <td>38389</td>\n",
       "      <td>1</td>\n",
       "      <td>0</td>\n",
       "      <td>0</td>\n",
       "      <td>85</td>\n",
       "      <td>106492.0</td>\n",
       "    </tr>\n",
       "    <tr>\n",
       "      <th>100005</th>\n",
       "      <td>0</td>\n",
       "      <td>39288</td>\n",
       "      <td>1.220</td>\n",
       "      <td>1010349081</td>\n",
       "      <td>719036146</td>\n",
       "      <td>80</td>\n",
       "      <td>54556</td>\n",
       "      <td>1</td>\n",
       "      <td>0</td>\n",
       "      <td>0</td>\n",
       "      <td>4</td>\n",
       "      <td>565.0</td>\n",
       "    </tr>\n",
       "    <tr>\n",
       "      <th>100006</th>\n",
       "      <td>0</td>\n",
       "      <td>39288</td>\n",
       "      <td>1.108</td>\n",
       "      <td>1010349081</td>\n",
       "      <td>719036146</td>\n",
       "      <td>443</td>\n",
       "      <td>36025</td>\n",
       "      <td>1</td>\n",
       "      <td>0</td>\n",
       "      <td>0</td>\n",
       "      <td>84</td>\n",
       "      <td>106436.0</td>\n",
       "    </tr>\n",
       "    <tr>\n",
       "      <th>100007</th>\n",
       "      <td>0</td>\n",
       "      <td>39356</td>\n",
       "      <td>0.840</td>\n",
       "      <td>1010349080</td>\n",
       "      <td>719036146</td>\n",
       "      <td>80</td>\n",
       "      <td>36953</td>\n",
       "      <td>1</td>\n",
       "      <td>0</td>\n",
       "      <td>0</td>\n",
       "      <td>4</td>\n",
       "      <td>565.0</td>\n",
       "    </tr>\n",
       "    <tr>\n",
       "      <th>100008</th>\n",
       "      <td>0</td>\n",
       "      <td>39356</td>\n",
       "      <td>0.736</td>\n",
       "      <td>1010349081</td>\n",
       "      <td>719036146</td>\n",
       "      <td>443</td>\n",
       "      <td>36256</td>\n",
       "      <td>1</td>\n",
       "      <td>0</td>\n",
       "      <td>0</td>\n",
       "      <td>81</td>\n",
       "      <td>106316.0</td>\n",
       "    </tr>\n",
       "    <tr>\n",
       "      <th>100009</th>\n",
       "      <td>0</td>\n",
       "      <td>39389</td>\n",
       "      <td>0.452</td>\n",
       "      <td>1010349069</td>\n",
       "      <td>719034991</td>\n",
       "      <td>443</td>\n",
       "      <td>35852</td>\n",
       "      <td>1</td>\n",
       "      <td>0</td>\n",
       "      <td>0</td>\n",
       "      <td>10</td>\n",
       "      <td>5658.0</td>\n",
       "    </tr>\n",
       "  </tbody>\n",
       "</table>\n",
       "</div>"
      ],
      "text/plain": [
       "        Label  Timestamp  FlowDuration       SrcIP      DstIP  SrcPort  \\\n",
       "100000      0      39180         0.000  1302970731  719034823        0   \n",
       "100001      0      39218         1.360  4161214233  719034713      443   \n",
       "100002      0      39218         1.368  4161214233  719034713      443   \n",
       "100003      0      39224         1.136  1010349080  719036146       80   \n",
       "100004      0      39224         1.036  1010349080  719036146      443   \n",
       "100005      0      39288         1.220  1010349081  719036146       80   \n",
       "100006      0      39288         1.108  1010349081  719036146      443   \n",
       "100007      0      39356         0.840  1010349080  719036146       80   \n",
       "100008      0      39356         0.736  1010349081  719036146      443   \n",
       "100009      0      39389         0.452  1010349069  719034991      443   \n",
       "\n",
       "        DstPort  Protocol  ForwardingStatus  TypeofService  PacketExed  \\\n",
       "100000      771         3                 0              0           1   \n",
       "100001    57667         1                 0             72           3   \n",
       "100002    57665         1                 0             72           3   \n",
       "100003    36514         1                 0              0           4   \n",
       "100004    38389         1                 0              0          85   \n",
       "100005    54556         1                 0              0           4   \n",
       "100006    36025         1                 0              0          84   \n",
       "100007    36953         1                 0              0           4   \n",
       "100008    36256         1                 0              0          81   \n",
       "100009    35852         1                 0              0          10   \n",
       "\n",
       "           Bytes  \n",
       "100000      88.0  \n",
       "100001     120.0  \n",
       "100002     120.0  \n",
       "100003     565.0  \n",
       "100004  106492.0  \n",
       "100005     565.0  \n",
       "100006  106436.0  \n",
       "100007     565.0  \n",
       "100008  106316.0  \n",
       "100009    5658.0  "
      ]
     },
     "execution_count": 47,
     "metadata": {},
     "output_type": "execute_result"
    }
   ],
   "source": [
    "df_sample_bad.head(10)"
   ]
  },
  {
   "cell_type": "code",
   "execution_count": null,
   "metadata": {},
   "outputs": [],
   "source": []
  }
 ],
 "metadata": {
  "kernelspec": {
   "display_name": "Python 3",
   "language": "python",
   "name": "python3"
  },
  "language_info": {
   "codemirror_mode": {
    "name": "ipython",
    "version": 3
   },
   "file_extension": ".py",
   "mimetype": "text/x-python",
   "name": "python",
   "nbconvert_exporter": "python",
   "pygments_lexer": "ipython3",
   "version": "3.6.10"
  }
 },
 "nbformat": 4,
 "nbformat_minor": 4
}
